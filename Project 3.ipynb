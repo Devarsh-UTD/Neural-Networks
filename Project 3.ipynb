{
 "cells": [
  {
   "cell_type": "code",
   "execution_count": 1,
   "metadata": {},
   "outputs": [
    {
     "name": "stderr",
     "output_type": "stream",
     "text": [
      "Using TensorFlow backend.\n"
     ]
    }
   ],
   "source": [
    "#Loading required libraries\n",
    "import numpy as np\n",
    "import pandas as pd\n",
    "%matplotlib inline\n",
    "import matplotlib.pyplot as plt\n",
    "import seaborn as sns\n",
    "from sklearn.preprocessing import Imputer\n",
    "from sklearn.metrics import r2_score, mean_squared_error\n",
    "from sklearn.model_selection import GridSearchCV\n",
    "from sklearn.multioutput import MultiOutputRegressor\n",
    "from sklearn.linear_model import LinearRegression\n",
    "from sklearn.preprocessing import MinMaxScaler\n",
    "from sklearn.svm import SVC\n",
    "from sklearn.tree import DecisionTreeClassifier,DecisionTreeRegressor\n",
    "from sklearn.neighbors import KNeighborsRegressor\n",
    "from sklearn.ensemble import RandomForestRegressor\n",
    "from sklearn.model_selection import RandomizedSearchCV\n",
    "from scipy.stats import randint as sp_randint\n",
    "from sklearn.svm import SVR\n",
    "from sklearn.ensemble import GradientBoostingClassifier,GradientBoostingRegressor,BaggingRegressor,AdaBoostClassifier,AdaBoostRegressor,BaggingRegressor\n",
    "from sklearn.model_selection import train_test_split\n",
    "from keras.models import Sequential\n",
    "from keras.layers import Dense\n",
    "from keras.wrappers.scikit_learn import KerasClassifier\n",
    "import keras\n",
    "import seaborn as sns\n"
   ]
  },
  {
   "cell_type": "code",
   "execution_count": 2,
   "metadata": {},
   "outputs": [
    {
     "data": {
      "text/html": [
       "<div>\n",
       "<style scoped>\n",
       "    .dataframe tbody tr th:only-of-type {\n",
       "        vertical-align: middle;\n",
       "    }\n",
       "\n",
       "    .dataframe tbody tr th {\n",
       "        vertical-align: top;\n",
       "    }\n",
       "\n",
       "    .dataframe thead th {\n",
       "        text-align: right;\n",
       "    }\n",
       "</style>\n",
       "<table border=\"1\" class=\"dataframe\">\n",
       "  <thead>\n",
       "    <tr style=\"text-align: right;\">\n",
       "      <th></th>\n",
       "      <th>X1</th>\n",
       "      <th>X2</th>\n",
       "      <th>X3</th>\n",
       "      <th>X4</th>\n",
       "      <th>X5</th>\n",
       "      <th>X6</th>\n",
       "      <th>X7</th>\n",
       "      <th>X8</th>\n",
       "      <th>Y1</th>\n",
       "      <th>Y2</th>\n",
       "    </tr>\n",
       "  </thead>\n",
       "  <tbody>\n",
       "    <tr>\n",
       "      <th>0</th>\n",
       "      <td>0.98</td>\n",
       "      <td>514.5</td>\n",
       "      <td>294.0</td>\n",
       "      <td>110.25</td>\n",
       "      <td>7.0</td>\n",
       "      <td>2</td>\n",
       "      <td>0.0</td>\n",
       "      <td>0</td>\n",
       "      <td>15.55</td>\n",
       "      <td>21.33</td>\n",
       "    </tr>\n",
       "    <tr>\n",
       "      <th>1</th>\n",
       "      <td>0.98</td>\n",
       "      <td>514.5</td>\n",
       "      <td>294.0</td>\n",
       "      <td>110.25</td>\n",
       "      <td>7.0</td>\n",
       "      <td>3</td>\n",
       "      <td>0.0</td>\n",
       "      <td>0</td>\n",
       "      <td>15.55</td>\n",
       "      <td>21.33</td>\n",
       "    </tr>\n",
       "    <tr>\n",
       "      <th>2</th>\n",
       "      <td>0.98</td>\n",
       "      <td>514.5</td>\n",
       "      <td>294.0</td>\n",
       "      <td>110.25</td>\n",
       "      <td>7.0</td>\n",
       "      <td>4</td>\n",
       "      <td>0.0</td>\n",
       "      <td>0</td>\n",
       "      <td>15.55</td>\n",
       "      <td>21.33</td>\n",
       "    </tr>\n",
       "    <tr>\n",
       "      <th>3</th>\n",
       "      <td>0.98</td>\n",
       "      <td>514.5</td>\n",
       "      <td>294.0</td>\n",
       "      <td>110.25</td>\n",
       "      <td>7.0</td>\n",
       "      <td>5</td>\n",
       "      <td>0.0</td>\n",
       "      <td>0</td>\n",
       "      <td>15.55</td>\n",
       "      <td>21.33</td>\n",
       "    </tr>\n",
       "    <tr>\n",
       "      <th>4</th>\n",
       "      <td>0.90</td>\n",
       "      <td>563.5</td>\n",
       "      <td>318.5</td>\n",
       "      <td>122.50</td>\n",
       "      <td>7.0</td>\n",
       "      <td>2</td>\n",
       "      <td>0.0</td>\n",
       "      <td>0</td>\n",
       "      <td>20.84</td>\n",
       "      <td>28.28</td>\n",
       "    </tr>\n",
       "  </tbody>\n",
       "</table>\n",
       "</div>"
      ],
      "text/plain": [
       "     X1     X2     X3      X4   X5  X6   X7  X8     Y1     Y2\n",
       "0  0.98  514.5  294.0  110.25  7.0   2  0.0   0  15.55  21.33\n",
       "1  0.98  514.5  294.0  110.25  7.0   3  0.0   0  15.55  21.33\n",
       "2  0.98  514.5  294.0  110.25  7.0   4  0.0   0  15.55  21.33\n",
       "3  0.98  514.5  294.0  110.25  7.0   5  0.0   0  15.55  21.33\n",
       "4  0.90  563.5  318.5  122.50  7.0   2  0.0   0  20.84  28.28"
      ]
     },
     "execution_count": 2,
     "metadata": {},
     "output_type": "execute_result"
    }
   ],
   "source": [
    "data = pd.read_csv('project3_data.csv')\n",
    "data.head()"
   ]
  },
  {
   "cell_type": "code",
   "execution_count": 3,
   "metadata": {},
   "outputs": [],
   "source": [
    "data_X = data[['X1','X2','X3','X4','X5','X6','X7','X8']]\n",
    "data_Y = data[['Y1','Y2']]"
   ]
  },
  {
   "cell_type": "code",
   "execution_count": 4,
   "metadata": {},
   "outputs": [
    {
     "data": {
      "text/plain": [
       "efficiency_class\n",
       "High_Eff      192\n",
       "Low_Eff       192\n",
       "Medium_Eff    384\n",
       "Name: efficiency_class, dtype: int64"
      ]
     },
     "execution_count": 4,
     "metadata": {},
     "output_type": "execute_result"
    }
   ],
   "source": [
    "Overall_Load = data_Y['Y1'] + data_Y['Y2']\n",
    "Overall_Load= pd.DataFrame(data = Overall_Load,columns=['total_load'])\n",
    "Overall_Load['efficiency_class'] = 'Medium_Eff'\n",
    "Overall_Load.loc[Overall_Load.total_load < 28.75, ['efficiency_class']] = 'Low_Eff'\n",
    "Overall_Load.loc[Overall_Load.total_load > 64.33 , ['efficiency_class']] = 'High_Eff'\n",
    "Overall_Load.groupby('efficiency_class')['efficiency_class'].count()"
   ]
  },
  {
   "cell_type": "code",
   "execution_count": 5,
   "metadata": {},
   "outputs": [
    {
     "data": {
      "image/png": "[encoded data removed]",
      "text/plain": [
       "<matplotlib.figure.Figure at 0x1d43432dfd0>"
      ]
     },
     "metadata": {},
     "output_type": "display_data"
    }
   ],
   "source": [
    "sns.distplot(Overall_Load['total_load'])\n",
    "plt.title('Total load');"
   ]
  },
  {
   "cell_type": "code",
   "execution_count": 6,
   "metadata": {},
   "outputs": [],
   "source": [
    "Overall_Load['efficiency_class'] = pd.Categorical(Overall_Load[\"efficiency_class\"],ordered=True)\n"
   ]
  },
  {
   "cell_type": "code",
   "execution_count": 7,
   "metadata": {},
   "outputs": [
    {
     "data": {
      "text/html": [
       "<div>\n",
       "<style scoped>\n",
       "    .dataframe tbody tr th:only-of-type {\n",
       "        vertical-align: middle;\n",
       "    }\n",
       "\n",
       "    .dataframe tbody tr th {\n",
       "        vertical-align: top;\n",
       "    }\n",
       "\n",
       "    .dataframe thead th {\n",
       "        text-align: right;\n",
       "    }\n",
       "</style>\n",
       "<table border=\"1\" class=\"dataframe\">\n",
       "  <thead>\n",
       "    <tr style=\"text-align: right;\">\n",
       "      <th></th>\n",
       "      <th>heating_load</th>\n",
       "      <th>cooling_load</th>\n",
       "    </tr>\n",
       "  </thead>\n",
       "  <tbody>\n",
       "    <tr>\n",
       "      <th>0</th>\n",
       "      <td>15.55</td>\n",
       "      <td>21.33</td>\n",
       "    </tr>\n",
       "    <tr>\n",
       "      <th>1</th>\n",
       "      <td>15.55</td>\n",
       "      <td>21.33</td>\n",
       "    </tr>\n",
       "    <tr>\n",
       "      <th>2</th>\n",
       "      <td>15.55</td>\n",
       "      <td>21.33</td>\n",
       "    </tr>\n",
       "    <tr>\n",
       "      <th>3</th>\n",
       "      <td>15.55</td>\n",
       "      <td>21.33</td>\n",
       "    </tr>\n",
       "    <tr>\n",
       "      <th>4</th>\n",
       "      <td>20.84</td>\n",
       "      <td>28.28</td>\n",
       "    </tr>\n",
       "  </tbody>\n",
       "</table>\n",
       "</div>"
      ],
      "text/plain": [
       "   heating_load  cooling_load\n",
       "0         15.55         21.33\n",
       "1         15.55         21.33\n",
       "2         15.55         21.33\n",
       "3         15.55         21.33\n",
       "4         20.84         28.28"
      ]
     },
     "execution_count": 7,
     "metadata": {},
     "output_type": "execute_result"
    }
   ],
   "source": [
    "data_X.columns = ['relative_compactness','surface_area','wall_area','roof_area','overall_height','orientation','glazing_area','glazing_area_distribution']\n",
    "data_Y.columns = ['heating_load','cooling_load']\n",
    "data_Y.head()"
   ]
  },
  {
   "cell_type": "code",
   "execution_count": 8,
   "metadata": {},
   "outputs": [],
   "source": [
    "data_Y_cool = data_Y['cooling_load']\n",
    "data_Y_hot = data_Y['heating_load']"
   ]
  },
  {
   "cell_type": "code",
   "execution_count": 9,
   "metadata": {},
   "outputs": [],
   "source": [
    "from sklearn.preprocessing import MinMaxScaler\n",
    "scaler = MinMaxScaler()\n",
    "X_train_heat, X_test_heat, y_train_heat, y_test_heat = train_test_split(data_X, data_Y_hot, test_size = 0.2, random_state = 10)\n",
    "X_train_heat = scaler.fit_transform(X_train_heat)\n",
    "X_test_heat = scaler.transform(X_test_heat)\n",
    "X_train_cool, X_test_cool, y_train_cool, y_test_cool = train_test_split(data_X, data_Y_cool, test_size = 0.2, random_state = 10)\n",
    "X_train_cool = scaler.fit_transform(X_train_cool)\n",
    "X_test_cool = scaler.transform(X_test_cool)"
   ]
  },
  {
   "cell_type": "code",
   "execution_count": 9,
   "metadata": {
    "collapsed": true
   },
   "outputs": [],
   "source": [
    "#Defining R-square\n",
    "def coeff_determination(y_true, y_pred):\n",
    "    from keras import backend as K\n",
    "    SS_res =  K.sum(K.square( y_true-y_pred ))\n",
    "    SS_tot = K.sum(K.square( y_true - K.mean(y_true) ) )\n",
    "    return ( 1 - SS_res/(SS_tot + K.epsilon()))"
   ]
  },
  {
   "cell_type": "code",
   "execution_count": 10,
   "metadata": {
    "collapsed": true
   },
   "outputs": [],
   "source": [
    "from keras.wrappers.scikit_learn import KerasRegressor\n",
    "\n",
    "def create_model_regressor_cooling():\n",
    "    #create model\n",
    "    model2 = Sequential()\n",
    "    model2.add(Dense(8, input_dim=8, kernel_initializer='normal', activation='relu'))\n",
    "    model2.add(Dense(4, kernel_initializer = 'normal', activation = 'relu')) # hidden layer\n",
    "    model2.add(Dense(10, kernel_initializer = 'normal', activation = 'linear'))\n",
    "    model2.add(Dense(1, kernel_initializer='normal'))\n",
    "    #compile model\n",
    "    model2.compile(loss='mean_squared_error', optimizer='adam', metrics=['mean_squared_error'])\n",
    "    #return model\n",
    "    return model2"
   ]
  },
  {
   "cell_type": "code",
   "execution_count": 11,
   "metadata": {
    "collapsed": true
   },
   "outputs": [],
   "source": [
    "from keras.wrappers.scikit_learn import KerasRegressor\n",
    "\n",
    "def create_model_regressor_heating():\n",
    "    #create model\n",
    "    model = Sequential()\n",
    "    model.add(Dense(8, input_dim=8, kernel_initializer='normal', activation='relu'))\n",
    "    model.add(Dense(4, kernel_initializer = 'normal', activation = 'relu')) # hidden layer\n",
    "    model.add(Dense(10, kernel_initializer = 'normal', activation = 'linear'))\n",
    "    model.add(Dense(1, kernel_initializer='normal'))\n",
    "    #compile model\n",
    "    model.compile(loss='mean_squared_error', optimizer='adam', metrics=['mean_squared_error', coeff_determination])\n",
    "    return model"
   ]
  },
  {
   "cell_type": "code",
   "execution_count": 12,
   "metadata": {
    "collapsed": true
   },
   "outputs": [],
   "source": [
    "param_grid = {'epochs':[50, 100, 200] , 'batch_size':[20, 50, 100]}"
   ]
  },
  {
   "cell_type": "code",
   "execution_count": 13,
   "metadata": {},
   "outputs": [
    {
     "name": "stdout",
     "output_type": "stream",
     "text": [
      "Best parameters for cooling load {'batch_size': 50, 'epochs': 200}\n",
      "0.869686726031\n",
      "0.893870551334\n"
     ]
    }
   ],
   "source": [
    "model1 = KerasRegressor(build_fn = create_model_regressor_cooling , verbose = 0)\n",
    "\n",
    "grid_search = GridSearchCV(model1 , param_grid , cv =5)\n",
    "\n",
    "grid_search.fit(X_train_cool, y_train_cool)\n",
    "#\n",
    "print('Best parameters for cooling load {}'.format(grid_search.best_params_))\n",
    "\n",
    "train_r2_cool = r2_score(y_train_cool, grid_search.predict(X_train_cool))\n",
    "print(train_r2_cool)\n",
    "test_r2_cool = r2_score(y_test_cool, grid_search.predict(X_test_cool))\n",
    "print(test_r2_cool)"
   ]
  },
  {
   "cell_type": "code",
   "execution_count": 14,
   "metadata": {},
   "outputs": [
    {
     "name": "stdout",
     "output_type": "stream",
     "text": [
      "Best parameters for heating load {'batch_size': 50, 'epochs': 200}\n",
      "0.906356179563\n",
      "0.925660135935\n"
     ]
    }
   ],
   "source": [
    "model2 = KerasRegressor(build_fn = create_model_regressor_heating , verbose = 0)\n",
    "grid_search = GridSearchCV(model2 , param_grid , cv =5)\n",
    "\n",
    "grid_search.fit(X_train_heat, y_train_heat)\n",
    "print('Best parameters for heating load {}'.format(grid_search.best_params_))\n",
    "\n",
    "train_r2_heat = r2_score(y_train_heat, grid_search.predict(X_train_heat))\n",
    "print(train_r2_heat)\n",
    "test_r2_heat = r2_score(y_test_heat, grid_search.predict(X_test_heat))\n",
    "print(test_r2_heat)"
   ]
  },
  {
   "cell_type": "code",
   "execution_count": 15,
   "metadata": {
    "collapsed": true
   },
   "outputs": [],
   "source": [
    "X_train, X_test, y_train, y_test = train_test_split(data_X, data_Y, random_state = 0)\n"
   ]
  },
  {
   "cell_type": "code",
   "execution_count": 16,
   "metadata": {
    "collapsed": true
   },
   "outputs": [],
   "source": [
    "from sklearn.preprocessing import MinMaxScaler\n",
    "MinMax = MinMaxScaler(feature_range= (0,1))\n",
    "X_train_scaled = MinMax.fit_transform(X_train)\n",
    "X_test_scaled = MinMax.transform(X_test)"
   ]
  },
  {
   "cell_type": "code",
   "execution_count": 17,
   "metadata": {},
   "outputs": [
    {
     "name": "stdout",
     "output_type": "stream",
     "text": [
      "The R2 score using Linear Regression on test data is: 0.901099766134\n"
     ]
    }
   ],
   "source": [
    "linear = LinearRegression()\n",
    "multi_linear = MultiOutputRegressor(linear,n_jobs=-1)\n",
    "multi_linear.fit(X_train,y_train)\n",
    "pred = multi_linear.predict(X_test)\n",
    "print('The R2 score using Linear Regression on test data is:',r2_score(y_test,pred))\n"
   ]
  },
  {
   "cell_type": "code",
   "execution_count": 18,
   "metadata": {},
   "outputs": [
    {
     "name": "stdout",
     "output_type": "stream",
     "text": [
      "The R2 score using KNN on test data is: 0.916534482585\n"
     ]
    }
   ],
   "source": [
    "param_grid = {'weights':['distance', 'uniform'], 'n_neighbors':range(4,100)}\n",
    "grid_search_knn = MultiOutputRegressor(GridSearchCV(KNeighborsRegressor(), param_grid, cv=5,return_train_score=True),n_jobs=-1)\n",
    "grid_search_knn.fit(X_train_scaled, y_train)\n",
    "pred = grid_search_knn.predict(X_test_scaled)\n",
    "print('The R2 score using KNN on test data is:',r2_score(y_test,pred))\n"
   ]
  },
  {
   "cell_type": "code",
   "execution_count": 19,
   "metadata": {},
   "outputs": [
    {
     "name": "stdout",
     "output_type": "stream",
     "text": [
      "The R2 score using Random Forests on test data is: 0.962927565721\n"
     ]
    }
   ],
   "source": [
    "param_grid = {\"max_depth\": [2, 4],\n",
    "              \"max_features\": sp_randint(1, 4),\n",
    "              \"min_samples_split\": sp_randint(2, 20),\n",
    "              \"min_samples_leaf\": sp_randint(1, 10),\n",
    "              \"bootstrap\": [True, False]}\n",
    "random_search_rf = MultiOutputRegressor(RandomizedSearchCV(RandomForestRegressor(n_estimators=1000), param_distributions=param_grid,\n",
    "                                   n_iter=40, random_state=0,n_jobs=-1, cv= 5,return_train_score=True),n_jobs=-1)\n",
    "random_search_rf.fit(X_train, y_train)\n",
    "\n",
    "pred = random_search_rf.predict(X_test)\n",
    "print('The R2 score using Random Forests on test data is:',r2_score(y_test,pred))\n"
   ]
  },
  {
   "cell_type": "code",
   "execution_count": 20,
   "metadata": {},
   "outputs": [
    {
     "name": "stdout",
     "output_type": "stream",
     "text": [
      "The R2 score using SVR and Linear Kernel on test data is: 0.892655735986\n"
     ]
    }
   ],
   "source": [
    "new_param = {\"C\": [1e0, 1e1, 1e2, 1e3],\"gamma\": np.logspace(-2, 2, 5)}\n",
    "svr = MultiOutputRegressor(GridSearchCV(SVR(kernel='linear'), new_param, cv=5,return_train_score=True))\n",
    "\n",
    "svr.fit(X_train_scaled, y_train)\n",
    "pred = svr.predict(X_test_scaled)\n",
    "print('The R2 score using SVR and Linear Kernel on test data is:',r2_score(y_test,pred))"
   ]
  },
  {
   "cell_type": "code",
   "execution_count": 21,
   "metadata": {},
   "outputs": [
    {
     "name": "stdout",
     "output_type": "stream",
     "text": [
      "The R2 score using SVR and rbf Kernel on test data is: 0.985210650163\n"
     ]
    }
   ],
   "source": [
    "new_param = {\"C\": [1e0, 1e1, 1e2, 1e3],\"gamma\": np.logspace(-2, 2, 5)}\n",
    "svr = MultiOutputRegressor(GridSearchCV(SVR(kernel='rbf'), new_param, cv=5,return_train_score=True))\n",
    "svr.fit(X_train_scaled, y_train)\n",
    "pred = svr.predict(X_test_scaled)\n",
    "print('The R2 score using SVR and rbf Kernel on test data is:',r2_score(y_test,pred))"
   ]
  },
  {
   "cell_type": "code",
   "execution_count": 22,
   "metadata": {},
   "outputs": [
    {
     "name": "stdout",
     "output_type": "stream",
     "text": [
      "The R2 score using Random forests on test data is: 0.842151589979\n"
     ]
    }
   ],
   "source": [
    "from sklearn.ensemble import BaggingRegressor\n",
    "param_grid = {\"max_samples\": sp_randint(5,10),\n",
    "              \"max_features\": sp_randint(1, 7),\n",
    "             \"bootstrap_features\": [True,False],\n",
    "             \"bootstrap\": [True,False]}\n",
    "\n",
    "bagging_decision_tree = MultiOutputRegressor(RandomizedSearchCV(BaggingRegressor(DecisionTreeRegressor(),n_estimators=1000), param_distributions=param_grid,\n",
    "                                   n_iter=30, random_state=0,n_jobs=-1,cv= 5,return_train_score=True),n_jobs=-1)\n",
    "\n",
    "bagging_decision_tree.fit(X_train,y_train)\n",
    "pred = bagging_decision_tree.predict(X_test)\n",
    "print('The R2 score using Random forests on test data is:',r2_score(y_test,pred))\n",
    "\n"
   ]
  },
  {
   "cell_type": "code",
   "execution_count": 23,
   "metadata": {},
   "outputs": [
    {
     "name": "stdout",
     "output_type": "stream",
     "text": [
      "The R2 score using adaboost on test data is: 0.980006582087\n"
     ]
    }
   ],
   "source": [
    "param =  { \"n_estimators\": [100,500] }\n",
    "\n",
    "base_dt=DecisionTreeRegressor()\n",
    "ada_dt = AdaBoostRegressor(base_estimator=base_dt,learning_rate = 0.7,random_state=10)\n",
    "adaboost_dt = MultiOutputRegressor(GridSearchCV(ada_dt,param_grid=param,n_jobs=-1),n_jobs=-1)\n",
    "adaboost_dt.fit(X_train, y_train)\n",
    "pred = adaboost_dt.predict(X_test)\n",
    "print('The R2 score using adaboost on test data is:',r2_score(y_test,pred))\n"
   ]
  },
  {
   "cell_type": "code",
   "execution_count": 24,
   "metadata": {},
   "outputs": [
    {
     "name": "stdout",
     "output_type": "stream",
     "text": [
      "The R2 score using base KNN in adaboost on test data is: 0.950079897703\n"
     ]
    }
   ],
   "source": [
    "param =  { \"n_estimators\": [100,500,1000] }\n",
    "\n",
    "base_knn=KNeighborsRegressor()\n",
    "ada_knn = AdaBoostRegressor(base_estimator=base_knn,learning_rate = 0.7,random_state=10)\n",
    "adaboost_knn = MultiOutputRegressor(GridSearchCV(ada_knn,param_grid=param,n_jobs=-1),n_jobs=-1)\n",
    "adaboost_knn.fit(X_train_scaled, y_train)\n",
    "pred = adaboost_knn.predict(X_test_scaled)\n",
    "print('The R2 score using base KNN in adaboost on test data is:',r2_score(y_test,pred))\n"
   ]
  },
  {
   "cell_type": "code",
   "execution_count": 25,
   "metadata": {},
   "outputs": [
    {
     "name": "stdout",
     "output_type": "stream",
     "text": [
      "The R2 score using base SVR in adaboost on test data is: 0.889777808566\n"
     ]
    }
   ],
   "source": [
    "param =  { \"n_estimators\": [100,500,1000] }\n",
    "base_svr=SVR(kernel='linear')\n",
    "ada_svr = AdaBoostRegressor(base_estimator=base_svr,learning_rate = 0.7,random_state=10)\n",
    "adaboost_svr = MultiOutputRegressor(GridSearchCV(ada_svr,param_grid=param,n_jobs=-1),n_jobs=-1)\n",
    "adaboost_svr.fit(X_train_scaled, y_train)\n",
    "pred = adaboost_svr.predict(X_test_scaled)\n",
    "print('The R2 score using base SVR in adaboost on test data is:',r2_score(y_test,pred))\n",
    "\n"
   ]
  },
  {
   "cell_type": "code",
   "execution_count": 26,
   "metadata": {},
   "outputs": [
    {
     "name": "stdout",
     "output_type": "stream",
     "text": [
      "The R2 score using Gradient Boosting on test data is: 0.992962473975\n"
     ]
    }
   ],
   "source": [
    "param = {\"min_samples_split\": [3,4,5],\n",
    "         \"max_features\": [2,3,4,5,6],\n",
    "         'n_estimators': [100,500,1000]}\n",
    "\n",
    "boost_svr = GradientBoostingRegressor(learning_rate =1.1,random_state=10)\n",
    "mod_boost_svr = MultiOutputRegressor(GridSearchCV(boost_svr,param_grid=param,n_jobs=-1),n_jobs=-1)\n",
    "mod_boost_svr.fit(X_train, y_train)\n",
    "pred = mod_boost_svr.predict(X_test)\n",
    "print('The R2 score using Gradient Boosting on test data is:',r2_score(y_test,pred))\n"
   ]
  },
  {
   "cell_type": "code",
   "execution_count": 10,
   "metadata": {},
   "outputs": [],
   "source": [
    "from keras.utils import np_utils\n",
    "\n",
    "neural_data_Y = Overall_Load['efficiency_class']"
   ]
  },
  {
   "cell_type": "code",
   "execution_count": 11,
   "metadata": {},
   "outputs": [
    {
     "data": {
      "text/plain": [
       "(192, 8)"
      ]
     },
     "execution_count": 11,
     "metadata": {},
     "output_type": "execute_result"
    }
   ],
   "source": [
    "from sklearn import preprocessing\n",
    "encode = preprocessing.LabelEncoder()\n",
    "encode.fit(neural_data_Y)\n",
    "new_data_Y_category_1 = encode.transform(neural_data_Y)\n",
    "new_data_Y_category_1 = keras.utils.to_categorical(new_data_Y_category_1,num_classes=3)\n",
    "X_train_cat, X_test_cat, y_train_cat, y_test_cat = train_test_split(data_X, new_data_Y_category_1, random_state = 0)\n",
    "\n",
    "MinMax = MinMaxScaler(feature_range= (0,1))\n",
    "X_train_cat_scaled = MinMax.fit_transform(X_train_cat)\n",
    "X_test_cat_scaled = MinMax.transform(X_test_cat)\n",
    "X_test_cat_scaled.shape"
   ]
  },
  {
   "cell_type": "code",
   "execution_count": 12,
   "metadata": {},
   "outputs": [
    {
     "data": {
      "text/plain": [
       "GridSearchCV(cv=10, error_score='raise',\n",
       "       estimator=<keras.wrappers.scikit_learn.KerasClassifier object at 0x000001D43A7E3978>,\n",
       "       fit_params=None, iid=True, n_jobs=1,\n",
       "       param_grid={'epochs': [50, 100, 200], 'batch_size': [5, 10, 20, 50, 100]},\n",
       "       pre_dispatch='2*n_jobs', refit=True, return_train_score=True,\n",
       "       scoring=None, verbose=0)"
      ]
     },
     "execution_count": 12,
     "metadata": {},
     "output_type": "execute_result"
    }
   ],
   "source": [
    "from keras.wrappers.scikit_learn import KerasClassifier\n",
    "\n",
    "def create_model():\n",
    "    #create model\n",
    "    model = Sequential()\n",
    "    model.add(Dense(8, input_dim=8, activation='relu'))\n",
    "    model.add(Dense(13, activation='relu')) #hidden layer\n",
    "    model.add(Dense(3,activation='softmax')) #output layer\n",
    "    #compile model\n",
    "    model.compile(loss='binary_crossentropy', optimizer='Nadam', metrics=['accuracy'])\n",
    "    return model\n",
    "keras_classifier = KerasClassifier(build_fn = create_model , verbose =0 )\n",
    "param = {'epochs':[50, 100, 200] , 'batch_size':[5,10,20, 50, 100]}\n",
    "grid_search = GridSearchCV(estimator=keras_classifier , param_grid = param , cv =10,return_train_score=True )\n",
    "grid_search.fit(X_train_cat_scaled,y_train_cat)"
   ]
  },
  {
   "cell_type": "code",
   "execution_count": 13,
   "metadata": {},
   "outputs": [
    {
     "name": "stdout",
     "output_type": "stream",
     "text": [
      "The Mean test score is [ 0.92013889  0.95023148  0.96412037  0.9189815   0.92708335  0.94560186\n",
      "  0.9050926   0.93402779  0.94212962  0.88946758  0.91319442  0.92939814\n",
      "  0.86747683  0.90335647  0.92013887]\n",
      "The Mean train score is [ 0.92759961  0.95433923  0.97093907  0.92462737  0.93865519  0.95331906\n",
      "  0.91987586  0.93659993  0.95215479  0.89474188  0.92136186  0.93485987\n",
      "  0.88470752  0.89975762  0.92798473]\n"
     ]
    }
   ],
   "source": [
    "print('The Mean test score is',grid_search.cv_results_['mean_test_score'])\n",
    "print('The Mean train score is',grid_search.cv_results_['mean_train_score'])"
   ]
  },
  {
   "cell_type": "markdown",
   "metadata": {},
   "source": [
    "## Conclusions"
   ]
  },
  {
   "cell_type": "markdown",
   "metadata": {},
   "source": [
    "### When the aim is to do regression for predicting the heating and cooling load, Gradient boosting has an r2_score of 0.99 and it is the best predictor. Keras Classifier also gave very good accuarcy for classififcation problem."
   ]
  },
  {
   "cell_type": "markdown",
   "metadata": {},
   "source": [
    "## Effort Table\n",
    "## Team Member 1: Devarsh Raghnathbhai Patel:     100%\n",
    "## Team Member 2: Himanshu Soni:                  100%"
   ]
  }
 ],
 "metadata": {
  "kernelspec": {
   "display_name": "Python 3",
   "language": "python",
   "name": "python3"
  },
  "language_info": {
   "codemirror_mode": {
    "name": "ipython",
    "version": 3
   },
   "file_extension": ".py",
   "mimetype": "text/x-python",
   "name": "python",
   "nbconvert_exporter": "python",
   "pygments_lexer": "ipython3",
   "version": "3.6.4"
  }
 },
 "nbformat": 4,
 "nbformat_minor": 2
}
